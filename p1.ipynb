{
 "cells": [
  {
   "cell_type": "code",
   "execution_count": 1,
   "id": "f258cc3b",
   "metadata": {
    "execution": {
     "iopub.execute_input": "2022-07-15T11:41:42.065577Z",
     "iopub.status.busy": "2022-07-15T11:41:42.064409Z",
     "iopub.status.idle": "2022-07-15T11:41:44.184743Z",
     "shell.execute_reply": "2022-07-15T11:41:44.183646Z"
    },
    "papermill": {
     "duration": 2.143568,
     "end_time": "2022-07-15T11:41:44.187941",
     "exception": false,
     "start_time": "2022-07-15T11:41:42.044373",
     "status": "completed"
    },
    "tags": []
   },
   "outputs": [],
   "source": [
    "\n",
    "import pandas as pd\n",
    "import numpy as np\n",
    "import matplotlib.pyplot as plt\n",
    "import seaborn as sns\n",
    "import time\n",
    "from collections import Counter\n",
    "from imblearn.over_sampling import SMOTE\n",
    "import matplotlib.ticker as ticker\n",
    "from sklearn.model_selection import train_test_split\n",
    "from sklearn.preprocessing import StandardScaler,MinMaxScaler,LabelEncoder\n",
    "from sklearn.pipeline import Pipeline\n",
    "from sklearn.model_selection import RepeatedStratifiedKFold,GridSearchCV\n",
    "from sklearn.linear_model import LogisticRegression\n",
    "from sklearn.tree import DecisionTreeClassifier\n",
    "from sklearn.svm import SVC\n",
    "from sklearn.neighbors import KNeighborsClassifier\n",
    "from sklearn.naive_bayes import GaussianNB\n",
    "from sklearn.ensemble import RandomForestClassifier,AdaBoostClassifier,GradientBoostingClassifier\n",
    "from sklearn.metrics import accuracy_score,classification_report,confusion_matrix\n",
    "from sklearn.model_selection import KFold # import KFold\n",
    "import warnings\n",
    "warnings.filterwarnings('ignore')\n",
    "%matplotlib inline"
   ]
  },
  {
   "cell_type": "code",
   "execution_count": 2,
   "id": "8e89ac22",
   "metadata": {
    "execution": {
     "iopub.execute_input": "2022-07-15T11:41:44.223119Z",
     "iopub.status.busy": "2022-07-15T11:41:44.222161Z",
     "iopub.status.idle": "2022-07-15T11:41:44.465483Z",
     "shell.execute_reply": "2022-07-15T11:41:44.464405Z"
    },
    "papermill": {
     "duration": 0.264408,
     "end_time": "2022-07-15T11:41:44.468362",
     "exception": false,
     "start_time": "2022-07-15T11:41:44.203954",
     "status": "completed"
    },
    "tags": []
   },
   "outputs": [],
   "source": [
    "df = pd.read_csv(\"RTA Dataset.csv\")"
   ]
  },
  {
   "cell_type": "code",
   "execution_count": 3,
   "id": "25196b78",
   "metadata": {
    "execution": {
     "iopub.execute_input": "2022-07-15T11:41:44.538480Z",
     "iopub.status.busy": "2022-07-15T11:41:44.537593Z",
     "iopub.status.idle": "2022-07-15T11:41:44.576377Z",
     "shell.execute_reply": "2022-07-15T11:41:44.574944Z"
    },
    "papermill": {
     "duration": 0.061037,
     "end_time": "2022-07-15T11:41:44.579430",
     "exception": false,
     "start_time": "2022-07-15T11:41:44.518393",
     "status": "completed"
    },
    "tags": []
   },
   "outputs": [
    {
     "data": {
      "text/html": [
       "<div>\n",
       "<style scoped>\n",
       "    .dataframe tbody tr th:only-of-type {\n",
       "        vertical-align: middle;\n",
       "    }\n",
       "\n",
       "    .dataframe tbody tr th {\n",
       "        vertical-align: top;\n",
       "    }\n",
       "\n",
       "    .dataframe thead th {\n",
       "        text-align: right;\n",
       "    }\n",
       "</style>\n",
       "<table border=\"1\" class=\"dataframe\">\n",
       "  <thead>\n",
       "    <tr style=\"text-align: right;\">\n",
       "      <th></th>\n",
       "      <th>Time</th>\n",
       "      <th>Day_of_week</th>\n",
       "      <th>Age_band_of_driver</th>\n",
       "      <th>Sex_of_driver</th>\n",
       "      <th>Educational_level</th>\n",
       "      <th>Vehicle_driver_relation</th>\n",
       "      <th>Driving_experience</th>\n",
       "      <th>Type_of_vehicle</th>\n",
       "      <th>Owner_of_vehicle</th>\n",
       "      <th>Service_year_of_vehicle</th>\n",
       "      <th>...</th>\n",
       "      <th>Vehicle_movement</th>\n",
       "      <th>Casualty_class</th>\n",
       "      <th>Sex_of_casualty</th>\n",
       "      <th>Age_band_of_casualty</th>\n",
       "      <th>Casualty_severity</th>\n",
       "      <th>Work_of_casuality</th>\n",
       "      <th>Fitness_of_casuality</th>\n",
       "      <th>Pedestrian_movement</th>\n",
       "      <th>Cause_of_accident</th>\n",
       "      <th>Accident_severity</th>\n",
       "    </tr>\n",
       "  </thead>\n",
       "  <tbody>\n",
       "    <tr>\n",
       "      <th>0</th>\n",
       "      <td>17:02:00</td>\n",
       "      <td>Monday</td>\n",
       "      <td>18-30</td>\n",
       "      <td>Male</td>\n",
       "      <td>Above high school</td>\n",
       "      <td>Employee</td>\n",
       "      <td>1-2yr</td>\n",
       "      <td>Automobile</td>\n",
       "      <td>Owner</td>\n",
       "      <td>Above 10yr</td>\n",
       "      <td>...</td>\n",
       "      <td>Going straight</td>\n",
       "      <td>na</td>\n",
       "      <td>na</td>\n",
       "      <td>na</td>\n",
       "      <td>na</td>\n",
       "      <td>NaN</td>\n",
       "      <td>NaN</td>\n",
       "      <td>Not a Pedestrian</td>\n",
       "      <td>Moving Backward</td>\n",
       "      <td>Slight Injury</td>\n",
       "    </tr>\n",
       "    <tr>\n",
       "      <th>1</th>\n",
       "      <td>17:02:00</td>\n",
       "      <td>Monday</td>\n",
       "      <td>31-50</td>\n",
       "      <td>Male</td>\n",
       "      <td>Junior high school</td>\n",
       "      <td>Employee</td>\n",
       "      <td>Above 10yr</td>\n",
       "      <td>Public (&gt; 45 seats)</td>\n",
       "      <td>Owner</td>\n",
       "      <td>5-10yrs</td>\n",
       "      <td>...</td>\n",
       "      <td>Going straight</td>\n",
       "      <td>na</td>\n",
       "      <td>na</td>\n",
       "      <td>na</td>\n",
       "      <td>na</td>\n",
       "      <td>NaN</td>\n",
       "      <td>NaN</td>\n",
       "      <td>Not a Pedestrian</td>\n",
       "      <td>Overtaking</td>\n",
       "      <td>Slight Injury</td>\n",
       "    </tr>\n",
       "    <tr>\n",
       "      <th>2</th>\n",
       "      <td>17:02:00</td>\n",
       "      <td>Monday</td>\n",
       "      <td>18-30</td>\n",
       "      <td>Male</td>\n",
       "      <td>Junior high school</td>\n",
       "      <td>Employee</td>\n",
       "      <td>1-2yr</td>\n",
       "      <td>Lorry (41?100Q)</td>\n",
       "      <td>Owner</td>\n",
       "      <td>NaN</td>\n",
       "      <td>...</td>\n",
       "      <td>Going straight</td>\n",
       "      <td>Driver or rider</td>\n",
       "      <td>Male</td>\n",
       "      <td>31-50</td>\n",
       "      <td>3</td>\n",
       "      <td>Driver</td>\n",
       "      <td>NaN</td>\n",
       "      <td>Not a Pedestrian</td>\n",
       "      <td>Changing lane to the left</td>\n",
       "      <td>Serious Injury</td>\n",
       "    </tr>\n",
       "    <tr>\n",
       "      <th>3</th>\n",
       "      <td>1:06:00</td>\n",
       "      <td>Sunday</td>\n",
       "      <td>18-30</td>\n",
       "      <td>Male</td>\n",
       "      <td>Junior high school</td>\n",
       "      <td>Employee</td>\n",
       "      <td>5-10yr</td>\n",
       "      <td>Public (&gt; 45 seats)</td>\n",
       "      <td>Governmental</td>\n",
       "      <td>NaN</td>\n",
       "      <td>...</td>\n",
       "      <td>Going straight</td>\n",
       "      <td>Pedestrian</td>\n",
       "      <td>Female</td>\n",
       "      <td>18-30</td>\n",
       "      <td>3</td>\n",
       "      <td>Driver</td>\n",
       "      <td>Normal</td>\n",
       "      <td>Not a Pedestrian</td>\n",
       "      <td>Changing lane to the right</td>\n",
       "      <td>Slight Injury</td>\n",
       "    </tr>\n",
       "    <tr>\n",
       "      <th>4</th>\n",
       "      <td>1:06:00</td>\n",
       "      <td>Sunday</td>\n",
       "      <td>18-30</td>\n",
       "      <td>Male</td>\n",
       "      <td>Junior high school</td>\n",
       "      <td>Employee</td>\n",
       "      <td>2-5yr</td>\n",
       "      <td>NaN</td>\n",
       "      <td>Owner</td>\n",
       "      <td>5-10yrs</td>\n",
       "      <td>...</td>\n",
       "      <td>Going straight</td>\n",
       "      <td>na</td>\n",
       "      <td>na</td>\n",
       "      <td>na</td>\n",
       "      <td>na</td>\n",
       "      <td>NaN</td>\n",
       "      <td>NaN</td>\n",
       "      <td>Not a Pedestrian</td>\n",
       "      <td>Overtaking</td>\n",
       "      <td>Slight Injury</td>\n",
       "    </tr>\n",
       "  </tbody>\n",
       "</table>\n",
       "<p>5 rows × 32 columns</p>\n",
       "</div>"
      ],
      "text/plain": [
       "       Time Day_of_week Age_band_of_driver Sex_of_driver   Educational_level  \\\n",
       "0  17:02:00      Monday              18-30          Male   Above high school   \n",
       "1  17:02:00      Monday              31-50          Male  Junior high school   \n",
       "2  17:02:00      Monday              18-30          Male  Junior high school   \n",
       "3   1:06:00      Sunday              18-30          Male  Junior high school   \n",
       "4   1:06:00      Sunday              18-30          Male  Junior high school   \n",
       "\n",
       "  Vehicle_driver_relation Driving_experience      Type_of_vehicle  \\\n",
       "0                Employee              1-2yr           Automobile   \n",
       "1                Employee         Above 10yr  Public (> 45 seats)   \n",
       "2                Employee              1-2yr      Lorry (41?100Q)   \n",
       "3                Employee             5-10yr  Public (> 45 seats)   \n",
       "4                Employee              2-5yr                  NaN   \n",
       "\n",
       "  Owner_of_vehicle Service_year_of_vehicle  ... Vehicle_movement  \\\n",
       "0            Owner              Above 10yr  ...   Going straight   \n",
       "1            Owner                 5-10yrs  ...   Going straight   \n",
       "2            Owner                     NaN  ...   Going straight   \n",
       "3     Governmental                     NaN  ...   Going straight   \n",
       "4            Owner                 5-10yrs  ...   Going straight   \n",
       "\n",
       "    Casualty_class Sex_of_casualty Age_band_of_casualty Casualty_severity  \\\n",
       "0               na              na                   na                na   \n",
       "1               na              na                   na                na   \n",
       "2  Driver or rider            Male                31-50                 3   \n",
       "3       Pedestrian          Female                18-30                 3   \n",
       "4               na              na                   na                na   \n",
       "\n",
       "  Work_of_casuality Fitness_of_casuality Pedestrian_movement  \\\n",
       "0               NaN                  NaN    Not a Pedestrian   \n",
       "1               NaN                  NaN    Not a Pedestrian   \n",
       "2            Driver                  NaN    Not a Pedestrian   \n",
       "3            Driver               Normal    Not a Pedestrian   \n",
       "4               NaN                  NaN    Not a Pedestrian   \n",
       "\n",
       "            Cause_of_accident Accident_severity  \n",
       "0             Moving Backward     Slight Injury  \n",
       "1                  Overtaking     Slight Injury  \n",
       "2   Changing lane to the left    Serious Injury  \n",
       "3  Changing lane to the right     Slight Injury  \n",
       "4                  Overtaking     Slight Injury  \n",
       "\n",
       "[5 rows x 32 columns]"
      ]
     },
     "execution_count": 3,
     "metadata": {},
     "output_type": "execute_result"
    }
   ],
   "source": [
    "df.head()"
   ]
  },
  {
   "cell_type": "code",
   "execution_count": 4,
   "id": "12680ebc",
   "metadata": {
    "execution": {
     "iopub.execute_input": "2022-07-15T11:41:44.617709Z",
     "iopub.status.busy": "2022-07-15T11:41:44.617230Z",
     "iopub.status.idle": "2022-07-15T11:41:44.647934Z",
     "shell.execute_reply": "2022-07-15T11:41:44.645773Z"
    },
    "papermill": {
     "duration": 0.054305,
     "end_time": "2022-07-15T11:41:44.651625",
     "exception": false,
     "start_time": "2022-07-15T11:41:44.597320",
     "status": "completed"
    },
    "tags": []
   },
   "outputs": [
    {
     "data": {
      "text/html": [
       "<div>\n",
       "<style scoped>\n",
       "    .dataframe tbody tr th:only-of-type {\n",
       "        vertical-align: middle;\n",
       "    }\n",
       "\n",
       "    .dataframe tbody tr th {\n",
       "        vertical-align: top;\n",
       "    }\n",
       "\n",
       "    .dataframe thead th {\n",
       "        text-align: right;\n",
       "    }\n",
       "</style>\n",
       "<table border=\"1\" class=\"dataframe\">\n",
       "  <thead>\n",
       "    <tr style=\"text-align: right;\">\n",
       "      <th></th>\n",
       "      <th>Time</th>\n",
       "      <th>Day_of_week</th>\n",
       "      <th>Age_band_of_driver</th>\n",
       "      <th>Sex_of_driver</th>\n",
       "      <th>Educational_level</th>\n",
       "      <th>Vehicle_driver_relation</th>\n",
       "      <th>Driving_experience</th>\n",
       "      <th>Type_of_vehicle</th>\n",
       "      <th>Owner_of_vehicle</th>\n",
       "      <th>Service_year_of_vehicle</th>\n",
       "      <th>...</th>\n",
       "      <th>Vehicle_movement</th>\n",
       "      <th>Casualty_class</th>\n",
       "      <th>Sex_of_casualty</th>\n",
       "      <th>Age_band_of_casualty</th>\n",
       "      <th>Casualty_severity</th>\n",
       "      <th>Work_of_casuality</th>\n",
       "      <th>Fitness_of_casuality</th>\n",
       "      <th>Pedestrian_movement</th>\n",
       "      <th>Cause_of_accident</th>\n",
       "      <th>Accident_severity</th>\n",
       "    </tr>\n",
       "  </thead>\n",
       "  <tbody>\n",
       "    <tr>\n",
       "      <th>7521</th>\n",
       "      <td>12:00:00</td>\n",
       "      <td>Tuesday</td>\n",
       "      <td>Unknown</td>\n",
       "      <td>Male</td>\n",
       "      <td>Junior high school</td>\n",
       "      <td>Employee</td>\n",
       "      <td>Above 10yr</td>\n",
       "      <td>Lorry (41?100Q)</td>\n",
       "      <td>Owner</td>\n",
       "      <td>NaN</td>\n",
       "      <td>...</td>\n",
       "      <td>Going straight</td>\n",
       "      <td>na</td>\n",
       "      <td>na</td>\n",
       "      <td>na</td>\n",
       "      <td>na</td>\n",
       "      <td>NaN</td>\n",
       "      <td>NaN</td>\n",
       "      <td>Not a Pedestrian</td>\n",
       "      <td>Moving Backward</td>\n",
       "      <td>Slight Injury</td>\n",
       "    </tr>\n",
       "    <tr>\n",
       "      <th>8830</th>\n",
       "      <td>15:55:00</td>\n",
       "      <td>Saturday</td>\n",
       "      <td>Over 51</td>\n",
       "      <td>Male</td>\n",
       "      <td>Junior high school</td>\n",
       "      <td>Owner</td>\n",
       "      <td>5-10yr</td>\n",
       "      <td>Public (&gt; 45 seats)</td>\n",
       "      <td>Owner</td>\n",
       "      <td>5-10yrs</td>\n",
       "      <td>...</td>\n",
       "      <td>Reversing</td>\n",
       "      <td>Driver or rider</td>\n",
       "      <td>Female</td>\n",
       "      <td>18-30</td>\n",
       "      <td>3</td>\n",
       "      <td>NaN</td>\n",
       "      <td>NaN</td>\n",
       "      <td>Not a Pedestrian</td>\n",
       "      <td>No priority to vehicle</td>\n",
       "      <td>Slight Injury</td>\n",
       "    </tr>\n",
       "    <tr>\n",
       "      <th>2719</th>\n",
       "      <td>11:45:00</td>\n",
       "      <td>Sunday</td>\n",
       "      <td>31-50</td>\n",
       "      <td>Male</td>\n",
       "      <td>Junior high school</td>\n",
       "      <td>Employee</td>\n",
       "      <td>Below 1yr</td>\n",
       "      <td>Automobile</td>\n",
       "      <td>Owner</td>\n",
       "      <td>Unknown</td>\n",
       "      <td>...</td>\n",
       "      <td>Entering a junction</td>\n",
       "      <td>Driver or rider</td>\n",
       "      <td>Female</td>\n",
       "      <td>18-30</td>\n",
       "      <td>3</td>\n",
       "      <td>Employee</td>\n",
       "      <td>NaN</td>\n",
       "      <td>Not a Pedestrian</td>\n",
       "      <td>Moving Backward</td>\n",
       "      <td>Slight Injury</td>\n",
       "    </tr>\n",
       "    <tr>\n",
       "      <th>6854</th>\n",
       "      <td>18:10:00</td>\n",
       "      <td>Friday</td>\n",
       "      <td>Unknown</td>\n",
       "      <td>Male</td>\n",
       "      <td>Junior high school</td>\n",
       "      <td>Employee</td>\n",
       "      <td>2-5yr</td>\n",
       "      <td>Long lorry</td>\n",
       "      <td>Owner</td>\n",
       "      <td>NaN</td>\n",
       "      <td>...</td>\n",
       "      <td>Going straight</td>\n",
       "      <td>Driver or rider</td>\n",
       "      <td>Male</td>\n",
       "      <td>31-50</td>\n",
       "      <td>3</td>\n",
       "      <td>Other</td>\n",
       "      <td>Normal</td>\n",
       "      <td>Not a Pedestrian</td>\n",
       "      <td>Changing lane to the right</td>\n",
       "      <td>Slight Injury</td>\n",
       "    </tr>\n",
       "    <tr>\n",
       "      <th>9907</th>\n",
       "      <td>20:30:00</td>\n",
       "      <td>Sunday</td>\n",
       "      <td>Over 51</td>\n",
       "      <td>Male</td>\n",
       "      <td>Junior high school</td>\n",
       "      <td>Employee</td>\n",
       "      <td>1-2yr</td>\n",
       "      <td>Long lorry</td>\n",
       "      <td>Governmental</td>\n",
       "      <td>2-5yrs</td>\n",
       "      <td>...</td>\n",
       "      <td>Moving Backward</td>\n",
       "      <td>Driver or rider</td>\n",
       "      <td>Male</td>\n",
       "      <td>31-50</td>\n",
       "      <td>3</td>\n",
       "      <td>Driver</td>\n",
       "      <td>Normal</td>\n",
       "      <td>Not a Pedestrian</td>\n",
       "      <td>Changing lane to the left</td>\n",
       "      <td>Slight Injury</td>\n",
       "    </tr>\n",
       "  </tbody>\n",
       "</table>\n",
       "<p>5 rows × 32 columns</p>\n",
       "</div>"
      ],
      "text/plain": [
       "          Time Day_of_week Age_band_of_driver Sex_of_driver  \\\n",
       "7521  12:00:00     Tuesday            Unknown          Male   \n",
       "8830  15:55:00    Saturday            Over 51          Male   \n",
       "2719  11:45:00      Sunday              31-50          Male   \n",
       "6854  18:10:00      Friday            Unknown          Male   \n",
       "9907  20:30:00      Sunday            Over 51          Male   \n",
       "\n",
       "       Educational_level Vehicle_driver_relation Driving_experience  \\\n",
       "7521  Junior high school                Employee         Above 10yr   \n",
       "8830  Junior high school                   Owner             5-10yr   \n",
       "2719  Junior high school                Employee          Below 1yr   \n",
       "6854  Junior high school                Employee              2-5yr   \n",
       "9907  Junior high school                Employee              1-2yr   \n",
       "\n",
       "          Type_of_vehicle Owner_of_vehicle Service_year_of_vehicle  ...  \\\n",
       "7521      Lorry (41?100Q)            Owner                     NaN  ...   \n",
       "8830  Public (> 45 seats)            Owner                 5-10yrs  ...   \n",
       "2719           Automobile            Owner                 Unknown  ...   \n",
       "6854           Long lorry            Owner                     NaN  ...   \n",
       "9907           Long lorry     Governmental                  2-5yrs  ...   \n",
       "\n",
       "         Vehicle_movement   Casualty_class Sex_of_casualty  \\\n",
       "7521       Going straight               na              na   \n",
       "8830            Reversing  Driver or rider          Female   \n",
       "2719  Entering a junction  Driver or rider          Female   \n",
       "6854       Going straight  Driver or rider            Male   \n",
       "9907      Moving Backward  Driver or rider            Male   \n",
       "\n",
       "     Age_band_of_casualty Casualty_severity Work_of_casuality  \\\n",
       "7521                   na                na               NaN   \n",
       "8830                18-30                 3               NaN   \n",
       "2719                18-30                 3          Employee   \n",
       "6854                31-50                 3             Other   \n",
       "9907                31-50                 3            Driver   \n",
       "\n",
       "     Fitness_of_casuality Pedestrian_movement           Cause_of_accident  \\\n",
       "7521                  NaN    Not a Pedestrian             Moving Backward   \n",
       "8830                  NaN    Not a Pedestrian      No priority to vehicle   \n",
       "2719                  NaN    Not a Pedestrian             Moving Backward   \n",
       "6854               Normal    Not a Pedestrian  Changing lane to the right   \n",
       "9907               Normal    Not a Pedestrian   Changing lane to the left   \n",
       "\n",
       "     Accident_severity  \n",
       "7521     Slight Injury  \n",
       "8830     Slight Injury  \n",
       "2719     Slight Injury  \n",
       "6854     Slight Injury  \n",
       "9907     Slight Injury  \n",
       "\n",
       "[5 rows x 32 columns]"
      ]
     },
     "execution_count": 4,
     "metadata": {},
     "output_type": "execute_result"
    }
   ],
   "source": [
    "df.sample(5)"
   ]
  },
  {
   "cell_type": "code",
   "execution_count": 5,
   "id": "998e64ef",
   "metadata": {
    "execution": {
     "iopub.execute_input": "2022-07-15T11:41:44.689916Z",
     "iopub.status.busy": "2022-07-15T11:41:44.689092Z",
     "iopub.status.idle": "2022-07-15T11:41:44.695558Z",
     "shell.execute_reply": "2022-07-15T11:41:44.694669Z"
    },
    "papermill": {
     "duration": 0.028153,
     "end_time": "2022-07-15T11:41:44.698212",
     "exception": false,
     "start_time": "2022-07-15T11:41:44.670059",
     "status": "completed"
    },
    "scrolled": true,
    "tags": []
   },
   "outputs": [
    {
     "data": {
      "text/plain": [
       "(12316, 32)"
      ]
     },
     "execution_count": 5,
     "metadata": {},
     "output_type": "execute_result"
    }
   ],
   "source": [
    "df.shape"
   ]
  },
  {
   "cell_type": "code",
   "execution_count": 6,
   "id": "a9927794",
   "metadata": {
    "execution": {
     "iopub.execute_input": "2022-07-15T11:41:44.735009Z",
     "iopub.status.busy": "2022-07-15T11:41:44.734098Z",
     "iopub.status.idle": "2022-07-15T11:41:44.742759Z",
     "shell.execute_reply": "2022-07-15T11:41:44.740969Z"
    },
    "papermill": {
     "duration": 0.030432,
     "end_time": "2022-07-15T11:41:44.745701",
     "exception": false,
     "start_time": "2022-07-15T11:41:44.715269",
     "status": "completed"
    },
    "tags": []
   },
   "outputs": [
    {
     "data": {
      "text/plain": [
       "Index(['Time', 'Day_of_week', 'Age_band_of_driver', 'Sex_of_driver',\n",
       "       'Educational_level', 'Vehicle_driver_relation', 'Driving_experience',\n",
       "       'Type_of_vehicle', 'Owner_of_vehicle', 'Service_year_of_vehicle',\n",
       "       'Defect_of_vehicle', 'Area_accident_occured', 'Lanes_or_Medians',\n",
       "       'Road_allignment', 'Types_of_Junction', 'Road_surface_type',\n",
       "       'Road_surface_conditions', 'Light_conditions', 'Weather_conditions',\n",
       "       'Type_of_collision', 'Number_of_vehicles_involved',\n",
       "       'Number_of_casualties', 'Vehicle_movement', 'Casualty_class',\n",
       "       'Sex_of_casualty', 'Age_band_of_casualty', 'Casualty_severity',\n",
       "       'Work_of_casuality', 'Fitness_of_casuality', 'Pedestrian_movement',\n",
       "       'Cause_of_accident', 'Accident_severity'],\n",
       "      dtype='object')"
      ]
     },
     "execution_count": 6,
     "metadata": {},
     "output_type": "execute_result"
    }
   ],
   "source": [
    "df.columns"
   ]
  },
  {
   "cell_type": "code",
   "execution_count": 7,
   "id": "ae2d904c",
   "metadata": {
    "execution": {
     "iopub.execute_input": "2022-07-15T11:41:44.785378Z",
     "iopub.status.busy": "2022-07-15T11:41:44.784824Z",
     "iopub.status.idle": "2022-07-15T11:41:44.977596Z",
     "shell.execute_reply": "2022-07-15T11:41:44.976101Z"
    },
    "papermill": {
     "duration": 0.216453,
     "end_time": "2022-07-15T11:41:44.980710",
     "exception": false,
     "start_time": "2022-07-15T11:41:44.764257",
     "status": "completed"
    },
    "tags": []
   },
   "outputs": [
    {
     "data": {
      "text/html": [
       "<div>\n",
       "<style scoped>\n",
       "    .dataframe tbody tr th:only-of-type {\n",
       "        vertical-align: middle;\n",
       "    }\n",
       "\n",
       "    .dataframe tbody tr th {\n",
       "        vertical-align: top;\n",
       "    }\n",
       "\n",
       "    .dataframe thead th {\n",
       "        text-align: right;\n",
       "    }\n",
       "</style>\n",
       "<table border=\"1\" class=\"dataframe\">\n",
       "  <thead>\n",
       "    <tr style=\"text-align: right;\">\n",
       "      <th></th>\n",
       "      <th>Time</th>\n",
       "      <th>Day_of_week</th>\n",
       "      <th>Age_band_of_driver</th>\n",
       "      <th>Sex_of_driver</th>\n",
       "      <th>Educational_level</th>\n",
       "      <th>Vehicle_driver_relation</th>\n",
       "      <th>Driving_experience</th>\n",
       "      <th>Type_of_vehicle</th>\n",
       "      <th>Owner_of_vehicle</th>\n",
       "      <th>Service_year_of_vehicle</th>\n",
       "      <th>...</th>\n",
       "      <th>Vehicle_movement</th>\n",
       "      <th>Casualty_class</th>\n",
       "      <th>Sex_of_casualty</th>\n",
       "      <th>Age_band_of_casualty</th>\n",
       "      <th>Casualty_severity</th>\n",
       "      <th>Work_of_casuality</th>\n",
       "      <th>Fitness_of_casuality</th>\n",
       "      <th>Pedestrian_movement</th>\n",
       "      <th>Cause_of_accident</th>\n",
       "      <th>Accident_severity</th>\n",
       "    </tr>\n",
       "  </thead>\n",
       "  <tbody>\n",
       "    <tr>\n",
       "      <th>count</th>\n",
       "      <td>12316</td>\n",
       "      <td>12316</td>\n",
       "      <td>12316</td>\n",
       "      <td>12316</td>\n",
       "      <td>11575</td>\n",
       "      <td>11737</td>\n",
       "      <td>11487</td>\n",
       "      <td>11366</td>\n",
       "      <td>11834</td>\n",
       "      <td>8388</td>\n",
       "      <td>...</td>\n",
       "      <td>12008</td>\n",
       "      <td>12316</td>\n",
       "      <td>12316</td>\n",
       "      <td>12316</td>\n",
       "      <td>12316</td>\n",
       "      <td>9118</td>\n",
       "      <td>9681</td>\n",
       "      <td>12316</td>\n",
       "      <td>12316</td>\n",
       "      <td>12316</td>\n",
       "    </tr>\n",
       "    <tr>\n",
       "      <th>unique</th>\n",
       "      <td>1074</td>\n",
       "      <td>7</td>\n",
       "      <td>5</td>\n",
       "      <td>3</td>\n",
       "      <td>7</td>\n",
       "      <td>4</td>\n",
       "      <td>7</td>\n",
       "      <td>17</td>\n",
       "      <td>4</td>\n",
       "      <td>6</td>\n",
       "      <td>...</td>\n",
       "      <td>13</td>\n",
       "      <td>4</td>\n",
       "      <td>3</td>\n",
       "      <td>6</td>\n",
       "      <td>4</td>\n",
       "      <td>7</td>\n",
       "      <td>5</td>\n",
       "      <td>9</td>\n",
       "      <td>20</td>\n",
       "      <td>3</td>\n",
       "    </tr>\n",
       "    <tr>\n",
       "      <th>top</th>\n",
       "      <td>15:30:00</td>\n",
       "      <td>Friday</td>\n",
       "      <td>18-30</td>\n",
       "      <td>Male</td>\n",
       "      <td>Junior high school</td>\n",
       "      <td>Employee</td>\n",
       "      <td>5-10yr</td>\n",
       "      <td>Automobile</td>\n",
       "      <td>Owner</td>\n",
       "      <td>Unknown</td>\n",
       "      <td>...</td>\n",
       "      <td>Going straight</td>\n",
       "      <td>Driver or rider</td>\n",
       "      <td>Male</td>\n",
       "      <td>na</td>\n",
       "      <td>3</td>\n",
       "      <td>Driver</td>\n",
       "      <td>Normal</td>\n",
       "      <td>Not a Pedestrian</td>\n",
       "      <td>No distancing</td>\n",
       "      <td>Slight Injury</td>\n",
       "    </tr>\n",
       "    <tr>\n",
       "      <th>freq</th>\n",
       "      <td>120</td>\n",
       "      <td>2041</td>\n",
       "      <td>4271</td>\n",
       "      <td>11437</td>\n",
       "      <td>7619</td>\n",
       "      <td>9627</td>\n",
       "      <td>3363</td>\n",
       "      <td>3205</td>\n",
       "      <td>10459</td>\n",
       "      <td>2883</td>\n",
       "      <td>...</td>\n",
       "      <td>8158</td>\n",
       "      <td>4944</td>\n",
       "      <td>5253</td>\n",
       "      <td>4443</td>\n",
       "      <td>7076</td>\n",
       "      <td>5903</td>\n",
       "      <td>9608</td>\n",
       "      <td>11390</td>\n",
       "      <td>2263</td>\n",
       "      <td>10415</td>\n",
       "    </tr>\n",
       "    <tr>\n",
       "      <th>mean</th>\n",
       "      <td>NaN</td>\n",
       "      <td>NaN</td>\n",
       "      <td>NaN</td>\n",
       "      <td>NaN</td>\n",
       "      <td>NaN</td>\n",
       "      <td>NaN</td>\n",
       "      <td>NaN</td>\n",
       "      <td>NaN</td>\n",
       "      <td>NaN</td>\n",
       "      <td>NaN</td>\n",
       "      <td>...</td>\n",
       "      <td>NaN</td>\n",
       "      <td>NaN</td>\n",
       "      <td>NaN</td>\n",
       "      <td>NaN</td>\n",
       "      <td>NaN</td>\n",
       "      <td>NaN</td>\n",
       "      <td>NaN</td>\n",
       "      <td>NaN</td>\n",
       "      <td>NaN</td>\n",
       "      <td>NaN</td>\n",
       "    </tr>\n",
       "    <tr>\n",
       "      <th>std</th>\n",
       "      <td>NaN</td>\n",
       "      <td>NaN</td>\n",
       "      <td>NaN</td>\n",
       "      <td>NaN</td>\n",
       "      <td>NaN</td>\n",
       "      <td>NaN</td>\n",
       "      <td>NaN</td>\n",
       "      <td>NaN</td>\n",
       "      <td>NaN</td>\n",
       "      <td>NaN</td>\n",
       "      <td>...</td>\n",
       "      <td>NaN</td>\n",
       "      <td>NaN</td>\n",
       "      <td>NaN</td>\n",
       "      <td>NaN</td>\n",
       "      <td>NaN</td>\n",
       "      <td>NaN</td>\n",
       "      <td>NaN</td>\n",
       "      <td>NaN</td>\n",
       "      <td>NaN</td>\n",
       "      <td>NaN</td>\n",
       "    </tr>\n",
       "    <tr>\n",
       "      <th>min</th>\n",
       "      <td>NaN</td>\n",
       "      <td>NaN</td>\n",
       "      <td>NaN</td>\n",
       "      <td>NaN</td>\n",
       "      <td>NaN</td>\n",
       "      <td>NaN</td>\n",
       "      <td>NaN</td>\n",
       "      <td>NaN</td>\n",
       "      <td>NaN</td>\n",
       "      <td>NaN</td>\n",
       "      <td>...</td>\n",
       "      <td>NaN</td>\n",
       "      <td>NaN</td>\n",
       "      <td>NaN</td>\n",
       "      <td>NaN</td>\n",
       "      <td>NaN</td>\n",
       "      <td>NaN</td>\n",
       "      <td>NaN</td>\n",
       "      <td>NaN</td>\n",
       "      <td>NaN</td>\n",
       "      <td>NaN</td>\n",
       "    </tr>\n",
       "    <tr>\n",
       "      <th>25%</th>\n",
       "      <td>NaN</td>\n",
       "      <td>NaN</td>\n",
       "      <td>NaN</td>\n",
       "      <td>NaN</td>\n",
       "      <td>NaN</td>\n",
       "      <td>NaN</td>\n",
       "      <td>NaN</td>\n",
       "      <td>NaN</td>\n",
       "      <td>NaN</td>\n",
       "      <td>NaN</td>\n",
       "      <td>...</td>\n",
       "      <td>NaN</td>\n",
       "      <td>NaN</td>\n",
       "      <td>NaN</td>\n",
       "      <td>NaN</td>\n",
       "      <td>NaN</td>\n",
       "      <td>NaN</td>\n",
       "      <td>NaN</td>\n",
       "      <td>NaN</td>\n",
       "      <td>NaN</td>\n",
       "      <td>NaN</td>\n",
       "    </tr>\n",
       "    <tr>\n",
       "      <th>50%</th>\n",
       "      <td>NaN</td>\n",
       "      <td>NaN</td>\n",
       "      <td>NaN</td>\n",
       "      <td>NaN</td>\n",
       "      <td>NaN</td>\n",
       "      <td>NaN</td>\n",
       "      <td>NaN</td>\n",
       "      <td>NaN</td>\n",
       "      <td>NaN</td>\n",
       "      <td>NaN</td>\n",
       "      <td>...</td>\n",
       "      <td>NaN</td>\n",
       "      <td>NaN</td>\n",
       "      <td>NaN</td>\n",
       "      <td>NaN</td>\n",
       "      <td>NaN</td>\n",
       "      <td>NaN</td>\n",
       "      <td>NaN</td>\n",
       "      <td>NaN</td>\n",
       "      <td>NaN</td>\n",
       "      <td>NaN</td>\n",
       "    </tr>\n",
       "    <tr>\n",
       "      <th>75%</th>\n",
       "      <td>NaN</td>\n",
       "      <td>NaN</td>\n",
       "      <td>NaN</td>\n",
       "      <td>NaN</td>\n",
       "      <td>NaN</td>\n",
       "      <td>NaN</td>\n",
       "      <td>NaN</td>\n",
       "      <td>NaN</td>\n",
       "      <td>NaN</td>\n",
       "      <td>NaN</td>\n",
       "      <td>...</td>\n",
       "      <td>NaN</td>\n",
       "      <td>NaN</td>\n",
       "      <td>NaN</td>\n",
       "      <td>NaN</td>\n",
       "      <td>NaN</td>\n",
       "      <td>NaN</td>\n",
       "      <td>NaN</td>\n",
       "      <td>NaN</td>\n",
       "      <td>NaN</td>\n",
       "      <td>NaN</td>\n",
       "    </tr>\n",
       "    <tr>\n",
       "      <th>max</th>\n",
       "      <td>NaN</td>\n",
       "      <td>NaN</td>\n",
       "      <td>NaN</td>\n",
       "      <td>NaN</td>\n",
       "      <td>NaN</td>\n",
       "      <td>NaN</td>\n",
       "      <td>NaN</td>\n",
       "      <td>NaN</td>\n",
       "      <td>NaN</td>\n",
       "      <td>NaN</td>\n",
       "      <td>...</td>\n",
       "      <td>NaN</td>\n",
       "      <td>NaN</td>\n",
       "      <td>NaN</td>\n",
       "      <td>NaN</td>\n",
       "      <td>NaN</td>\n",
       "      <td>NaN</td>\n",
       "      <td>NaN</td>\n",
       "      <td>NaN</td>\n",
       "      <td>NaN</td>\n",
       "      <td>NaN</td>\n",
       "    </tr>\n",
       "  </tbody>\n",
       "</table>\n",
       "<p>11 rows × 32 columns</p>\n",
       "</div>"
      ],
      "text/plain": [
       "            Time Day_of_week Age_band_of_driver Sex_of_driver  \\\n",
       "count      12316       12316              12316         12316   \n",
       "unique      1074           7                  5             3   \n",
       "top     15:30:00      Friday              18-30          Male   \n",
       "freq         120        2041               4271         11437   \n",
       "mean         NaN         NaN                NaN           NaN   \n",
       "std          NaN         NaN                NaN           NaN   \n",
       "min          NaN         NaN                NaN           NaN   \n",
       "25%          NaN         NaN                NaN           NaN   \n",
       "50%          NaN         NaN                NaN           NaN   \n",
       "75%          NaN         NaN                NaN           NaN   \n",
       "max          NaN         NaN                NaN           NaN   \n",
       "\n",
       "         Educational_level Vehicle_driver_relation Driving_experience  \\\n",
       "count                11575                   11737              11487   \n",
       "unique                   7                       4                  7   \n",
       "top     Junior high school                Employee             5-10yr   \n",
       "freq                  7619                    9627               3363   \n",
       "mean                   NaN                     NaN                NaN   \n",
       "std                    NaN                     NaN                NaN   \n",
       "min                    NaN                     NaN                NaN   \n",
       "25%                    NaN                     NaN                NaN   \n",
       "50%                    NaN                     NaN                NaN   \n",
       "75%                    NaN                     NaN                NaN   \n",
       "max                    NaN                     NaN                NaN   \n",
       "\n",
       "       Type_of_vehicle Owner_of_vehicle Service_year_of_vehicle  ...  \\\n",
       "count            11366            11834                    8388  ...   \n",
       "unique              17                4                       6  ...   \n",
       "top         Automobile            Owner                 Unknown  ...   \n",
       "freq              3205            10459                    2883  ...   \n",
       "mean               NaN              NaN                     NaN  ...   \n",
       "std                NaN              NaN                     NaN  ...   \n",
       "min                NaN              NaN                     NaN  ...   \n",
       "25%                NaN              NaN                     NaN  ...   \n",
       "50%                NaN              NaN                     NaN  ...   \n",
       "75%                NaN              NaN                     NaN  ...   \n",
       "max                NaN              NaN                     NaN  ...   \n",
       "\n",
       "       Vehicle_movement   Casualty_class Sex_of_casualty Age_band_of_casualty  \\\n",
       "count             12008            12316           12316                12316   \n",
       "unique               13                4               3                    6   \n",
       "top      Going straight  Driver or rider            Male                   na   \n",
       "freq               8158             4944            5253                 4443   \n",
       "mean                NaN              NaN             NaN                  NaN   \n",
       "std                 NaN              NaN             NaN                  NaN   \n",
       "min                 NaN              NaN             NaN                  NaN   \n",
       "25%                 NaN              NaN             NaN                  NaN   \n",
       "50%                 NaN              NaN             NaN                  NaN   \n",
       "75%                 NaN              NaN             NaN                  NaN   \n",
       "max                 NaN              NaN             NaN                  NaN   \n",
       "\n",
       "       Casualty_severity Work_of_casuality Fitness_of_casuality  \\\n",
       "count              12316              9118                 9681   \n",
       "unique                 4                 7                    5   \n",
       "top                    3            Driver               Normal   \n",
       "freq                7076              5903                 9608   \n",
       "mean                 NaN               NaN                  NaN   \n",
       "std                  NaN               NaN                  NaN   \n",
       "min                  NaN               NaN                  NaN   \n",
       "25%                  NaN               NaN                  NaN   \n",
       "50%                  NaN               NaN                  NaN   \n",
       "75%                  NaN               NaN                  NaN   \n",
       "max                  NaN               NaN                  NaN   \n",
       "\n",
       "       Pedestrian_movement Cause_of_accident Accident_severity  \n",
       "count                12316             12316             12316  \n",
       "unique                   9                20                 3  \n",
       "top       Not a Pedestrian     No distancing     Slight Injury  \n",
       "freq                 11390              2263             10415  \n",
       "mean                   NaN               NaN               NaN  \n",
       "std                    NaN               NaN               NaN  \n",
       "min                    NaN               NaN               NaN  \n",
       "25%                    NaN               NaN               NaN  \n",
       "50%                    NaN               NaN               NaN  \n",
       "75%                    NaN               NaN               NaN  \n",
       "max                    NaN               NaN               NaN  \n",
       "\n",
       "[11 rows x 32 columns]"
      ]
     },
     "execution_count": 7,
     "metadata": {},
     "output_type": "execute_result"
    }
   ],
   "source": [
    "df.describe(include=\"all\")"
   ]
  },
  {
   "cell_type": "code",
   "execution_count": 8,
   "id": "b8165974",
   "metadata": {
    "execution": {
     "iopub.execute_input": "2022-07-15T11:41:45.021931Z",
     "iopub.status.busy": "2022-07-15T11:41:45.020593Z",
     "iopub.status.idle": "2022-07-15T11:41:45.031387Z",
     "shell.execute_reply": "2022-07-15T11:41:45.030130Z"
    },
    "papermill": {
     "duration": 0.035868,
     "end_time": "2022-07-15T11:41:45.034388",
     "exception": false,
     "start_time": "2022-07-15T11:41:44.998520",
     "status": "completed"
    },
    "tags": []
   },
   "outputs": [
    {
     "data": {
      "text/plain": [
       "Time                           object\n",
       "Day_of_week                    object\n",
       "Age_band_of_driver             object\n",
       "Sex_of_driver                  object\n",
       "Educational_level              object\n",
       "Vehicle_driver_relation        object\n",
       "Driving_experience             object\n",
       "Type_of_vehicle                object\n",
       "Owner_of_vehicle               object\n",
       "Service_year_of_vehicle        object\n",
       "Defect_of_vehicle              object\n",
       "Area_accident_occured          object\n",
       "Lanes_or_Medians               object\n",
       "Road_allignment                object\n",
       "Types_of_Junction              object\n",
       "Road_surface_type              object\n",
       "Road_surface_conditions        object\n",
       "Light_conditions               object\n",
       "Weather_conditions             object\n",
       "Type_of_collision              object\n",
       "Number_of_vehicles_involved     int64\n",
       "Number_of_casualties            int64\n",
       "Vehicle_movement               object\n",
       "Casualty_class                 object\n",
       "Sex_of_casualty                object\n",
       "Age_band_of_casualty           object\n",
       "Casualty_severity              object\n",
       "Work_of_casuality              object\n",
       "Fitness_of_casuality           object\n",
       "Pedestrian_movement            object\n",
       "Cause_of_accident              object\n",
       "Accident_severity              object\n",
       "dtype: object"
      ]
     },
     "execution_count": 8,
     "metadata": {},
     "output_type": "execute_result"
    }
   ],
   "source": [
    "df.dtypes"
   ]
  },
  {
   "cell_type": "code",
   "execution_count": 9,
   "id": "ce4bec2b",
   "metadata": {
    "execution": {
     "iopub.execute_input": "2022-07-15T11:41:45.073959Z",
     "iopub.status.busy": "2022-07-15T11:41:45.073057Z",
     "iopub.status.idle": "2022-07-15T11:41:45.133968Z",
     "shell.execute_reply": "2022-07-15T11:41:45.131810Z"
    },
    "papermill": {
     "duration": 0.083916,
     "end_time": "2022-07-15T11:41:45.136964",
     "exception": false,
     "start_time": "2022-07-15T11:41:45.053048",
     "status": "completed"
    },
    "tags": []
   },
   "outputs": [
    {
     "name": "stdout",
     "output_type": "stream",
     "text": [
      "<class 'pandas.core.frame.DataFrame'>\n",
      "RangeIndex: 12316 entries, 0 to 12315\n",
      "Data columns (total 32 columns):\n",
      "Time                           12316 non-null object\n",
      "Day_of_week                    12316 non-null object\n",
      "Age_band_of_driver             12316 non-null object\n",
      "Sex_of_driver                  12316 non-null object\n",
      "Educational_level              11575 non-null object\n",
      "Vehicle_driver_relation        11737 non-null object\n",
      "Driving_experience             11487 non-null object\n",
      "Type_of_vehicle                11366 non-null object\n",
      "Owner_of_vehicle               11834 non-null object\n",
      "Service_year_of_vehicle        8388 non-null object\n",
      "Defect_of_vehicle              7889 non-null object\n",
      "Area_accident_occured          12077 non-null object\n",
      "Lanes_or_Medians               11931 non-null object\n",
      "Road_allignment                12174 non-null object\n",
      "Types_of_Junction              11429 non-null object\n",
      "Road_surface_type              12144 non-null object\n",
      "Road_surface_conditions        12316 non-null object\n",
      "Light_conditions               12316 non-null object\n",
      "Weather_conditions             12316 non-null object\n",
      "Type_of_collision              12161 non-null object\n",
      "Number_of_vehicles_involved    12316 non-null int64\n",
      "Number_of_casualties           12316 non-null int64\n",
      "Vehicle_movement               12008 non-null object\n",
      "Casualty_class                 12316 non-null object\n",
      "Sex_of_casualty                12316 non-null object\n",
      "Age_band_of_casualty           12316 non-null object\n",
      "Casualty_severity              12316 non-null object\n",
      "Work_of_casuality              9118 non-null object\n",
      "Fitness_of_casuality           9681 non-null object\n",
      "Pedestrian_movement            12316 non-null object\n",
      "Cause_of_accident              12316 non-null object\n",
      "Accident_severity              12316 non-null object\n",
      "dtypes: int64(2), object(30)\n",
      "memory usage: 3.0+ MB\n"
     ]
    }
   ],
   "source": [
    "df.info()"
   ]
  },
  {
   "cell_type": "code",
   "execution_count": 10,
   "id": "b0f22896",
   "metadata": {
    "execution": {
     "iopub.execute_input": "2022-07-15T11:41:45.176825Z",
     "iopub.status.busy": "2022-07-15T11:41:45.176009Z",
     "iopub.status.idle": "2022-07-15T11:41:45.247972Z",
     "shell.execute_reply": "2022-07-15T11:41:45.246876Z"
    },
    "papermill": {
     "duration": 0.095684,
     "end_time": "2022-07-15T11:41:45.250926",
     "exception": false,
     "start_time": "2022-07-15T11:41:45.155242",
     "status": "completed"
    },
    "tags": []
   },
   "outputs": [],
   "source": [
    "\n",
    "df['Time']= pd.to_datetime(df['Time'])"
   ]
  },
  {
   "cell_type": "code",
   "execution_count": 11,
   "id": "ff8ca19d",
   "metadata": {
    "execution": {
     "iopub.execute_input": "2022-07-15T11:41:45.291485Z",
     "iopub.status.busy": "2022-07-15T11:41:45.290653Z",
     "iopub.status.idle": "2022-07-15T11:41:45.349533Z",
     "shell.execute_reply": "2022-07-15T11:41:45.347494Z"
    },
    "papermill": {
     "duration": 0.083632,
     "end_time": "2022-07-15T11:41:45.352940",
     "exception": false,
     "start_time": "2022-07-15T11:41:45.269308",
     "status": "completed"
    },
    "tags": []
   },
   "outputs": [
    {
     "data": {
      "text/plain": [
       "0        False\n",
       "1        False\n",
       "2        False\n",
       "3        False\n",
       "4        False\n",
       "         ...  \n",
       "12311    False\n",
       "12312    False\n",
       "12313    False\n",
       "12314    False\n",
       "12315    False\n",
       "Length: 12316, dtype: bool"
      ]
     },
     "execution_count": 11,
     "metadata": {},
     "output_type": "execute_result"
    }
   ],
   "source": [
    "df.duplicated()"
   ]
  },
  {
   "cell_type": "code",
   "execution_count": 12,
   "id": "9f2ceb67",
   "metadata": {
    "execution": {
     "iopub.execute_input": "2022-07-15T11:41:45.397459Z",
     "iopub.status.busy": "2022-07-15T11:41:45.396593Z",
     "iopub.status.idle": "2022-07-15T11:41:45.448669Z",
     "shell.execute_reply": "2022-07-15T11:41:45.447078Z"
    },
    "papermill": {
     "duration": 0.078311,
     "end_time": "2022-07-15T11:41:45.452202",
     "exception": false,
     "start_time": "2022-07-15T11:41:45.373891",
     "status": "completed"
    },
    "scrolled": true,
    "tags": []
   },
   "outputs": [
    {
     "data": {
      "text/plain": [
       "0"
      ]
     },
     "execution_count": 12,
     "metadata": {},
     "output_type": "execute_result"
    }
   ],
   "source": [
    "df.duplicated().sum()"
   ]
  },
  {
   "cell_type": "code",
   "execution_count": 13,
   "id": "aa13073c",
   "metadata": {
    "execution": {
     "iopub.execute_input": "2022-07-15T11:41:45.495907Z",
     "iopub.status.busy": "2022-07-15T11:41:45.494961Z",
     "iopub.status.idle": "2022-07-15T11:41:45.506174Z",
     "shell.execute_reply": "2022-07-15T11:41:45.504930Z"
    },
    "papermill": {
     "duration": 0.036112,
     "end_time": "2022-07-15T11:41:45.508684",
     "exception": false,
     "start_time": "2022-07-15T11:41:45.472572",
     "status": "completed"
    },
    "tags": []
   },
   "outputs": [
    {
     "data": {
      "text/plain": [
       "Accident_severity\n",
       "Fatal injury        158\n",
       "Serious Injury     1743\n",
       "Slight Injury     10415\n",
       "dtype: int64"
      ]
     },
     "execution_count": 13,
     "metadata": {},
     "output_type": "execute_result"
    }
   ],
   "source": [
    "df.groupby('Accident_severity').size()"
   ]
  },
  {
   "cell_type": "code",
   "execution_count": 14,
   "id": "906f71f7",
   "metadata": {
    "execution": {
     "iopub.execute_input": "2022-07-15T11:41:45.595336Z",
     "iopub.status.busy": "2022-07-15T11:41:45.594525Z",
     "iopub.status.idle": "2022-07-15T11:41:45.645596Z",
     "shell.execute_reply": "2022-07-15T11:41:45.644253Z"
    },
    "papermill": {
     "duration": 0.075906,
     "end_time": "2022-07-15T11:41:45.648459",
     "exception": false,
     "start_time": "2022-07-15T11:41:45.572553",
     "status": "completed"
    },
    "tags": []
   },
   "outputs": [
    {
     "data": {
      "text/plain": [
       "Time                              0\n",
       "Day_of_week                       0\n",
       "Age_band_of_driver                0\n",
       "Sex_of_driver                     0\n",
       "Educational_level               741\n",
       "Vehicle_driver_relation         579\n",
       "Driving_experience              829\n",
       "Type_of_vehicle                 950\n",
       "Owner_of_vehicle                482\n",
       "Service_year_of_vehicle        3928\n",
       "Defect_of_vehicle              4427\n",
       "Area_accident_occured           239\n",
       "Lanes_or_Medians                385\n",
       "Road_allignment                 142\n",
       "Types_of_Junction               887\n",
       "Road_surface_type               172\n",
       "Road_surface_conditions           0\n",
       "Light_conditions                  0\n",
       "Weather_conditions                0\n",
       "Type_of_collision               155\n",
       "Number_of_vehicles_involved       0\n",
       "Number_of_casualties              0\n",
       "Vehicle_movement                308\n",
       "Casualty_class                    0\n",
       "Sex_of_casualty                   0\n",
       "Age_band_of_casualty              0\n",
       "Casualty_severity                 0\n",
       "Work_of_casuality              3198\n",
       "Fitness_of_casuality           2635\n",
       "Pedestrian_movement               0\n",
       "Cause_of_accident                 0\n",
       "Accident_severity                 0\n",
       "dtype: int64"
      ]
     },
     "execution_count": 14,
     "metadata": {},
     "output_type": "execute_result"
    }
   ],
   "source": [
    "df.isnull().sum()"
   ]
  },
  {
   "cell_type": "code",
   "execution_count": 15,
   "id": "03cf00af",
   "metadata": {
    "execution": {
     "iopub.execute_input": "2022-07-15T11:41:45.811765Z",
     "iopub.status.busy": "2022-07-15T11:41:45.810871Z",
     "iopub.status.idle": "2022-07-15T11:41:46.555722Z",
     "shell.execute_reply": "2022-07-15T11:41:46.553993Z"
    },
    "papermill": {
     "duration": 0.77023,
     "end_time": "2022-07-15T11:41:46.559036",
     "exception": false,
     "start_time": "2022-07-15T11:41:45.788806",
     "status": "completed"
    },
    "tags": []
   },
   "outputs": [
    {
     "data": {
      "image/png": "[encoded data removed]",
      "text/plain": [
       "<Figure size 2160x360 with 6 Axes>"
      ]
     },
     "metadata": {
      "needs_background": "light"
     },
     "output_type": "display_data"
    }
   ],
   "source": [
    "df.hist(layout=(1,6), figsize=(30,5))\n",
    "plt.show()"
   ]
  },
  {
   "cell_type": "code",
   "execution_count": 16,
   "id": "a0afef4b",
   "metadata": {
    "execution": {
     "iopub.execute_input": "2022-07-15T11:41:46.602228Z",
     "iopub.status.busy": "2022-07-15T11:41:46.601741Z",
     "iopub.status.idle": "2022-07-15T11:41:46.614063Z",
     "shell.execute_reply": "2022-07-15T11:41:46.612776Z"
    },
    "papermill": {
     "duration": 0.037248,
     "end_time": "2022-07-15T11:41:46.616750",
     "exception": false,
     "start_time": "2022-07-15T11:41:46.579502",
     "status": "completed"
    },
    "tags": []
   },
   "outputs": [
    {
     "data": {
      "text/plain": [
       "1    8397\n",
       "2    2290\n",
       "3     909\n",
       "4     394\n",
       "5     207\n",
       "6      89\n",
       "7      22\n",
       "8       8\n",
       "Name: Number_of_casualties, dtype: int64"
      ]
     },
     "execution_count": 16,
     "metadata": {},
     "output_type": "execute_result"
    }
   ],
   "source": [
    "df['Number_of_casualties'].value_counts()"
   ]
  },
  {
   "cell_type": "code",
   "execution_count": 17,
   "id": "d1ee973f",
   "metadata": {
    "execution": {
     "iopub.execute_input": "2022-07-15T11:41:46.659185Z",
     "iopub.status.busy": "2022-07-15T11:41:46.658258Z",
     "iopub.status.idle": "2022-07-15T11:41:46.991351Z",
     "shell.execute_reply": "2022-07-15T11:41:46.989919Z"
    },
    "papermill": {
     "duration": 0.357165,
     "end_time": "2022-07-15T11:41:46.994326",
     "exception": false,
     "start_time": "2022-07-15T11:41:46.637161",
     "status": "completed"
    },
    "tags": []
   },
   "outputs": [
    {
     "data": {
      "image/png": "[encoded data removed]",
      "text/plain": [
       "<Figure size 720x504 with 1 Axes>"
      ]
     },
     "metadata": {
      "needs_background": "light"
     },
     "output_type": "display_data"
    }
   ],
   "source": [
    "plt.figure(figsize=(10,7))\n",
    "sns.boxplot(data=df, y='Number_of_vehicles_involved', x='Number_of_casualties')\n",
    "plt.show()"
   ]
  },
  {
   "cell_type": "code",
   "execution_count": 18,
   "id": "4aa1929e",
   "metadata": {
    "execution": {
     "iopub.execute_input": "2022-07-15T11:41:47.041556Z",
     "iopub.status.busy": "2022-07-15T11:41:47.040708Z",
     "iopub.status.idle": "2022-07-15T11:41:47.224421Z",
     "shell.execute_reply": "2022-07-15T11:41:47.223074Z"
    },
    "papermill": {
     "duration": 0.211441,
     "end_time": "2022-07-15T11:41:47.227184",
     "exception": false,
     "start_time": "2022-07-15T11:41:47.015743",
     "status": "completed"
    },
    "tags": []
   },
   "outputs": [
    {
     "data": {
      "image/png": "[encoded data removed]",
      "text/plain": [
       "<Figure size 432x288 with 1 Axes>"
      ]
     },
     "metadata": {
      "needs_background": "light"
     },
     "output_type": "display_data"
    }
   ],
   "source": [
    "sns.boxplot(data=df, y='Number_of_casualties')\n",
    "plt.show()"
   ]
  },
  {
   "cell_type": "code",
   "execution_count": 19,
   "id": "44631405",
   "metadata": {
    "execution": {
     "iopub.execute_input": "2022-07-15T11:41:47.271910Z",
     "iopub.status.busy": "2022-07-15T11:41:47.270817Z",
     "iopub.status.idle": "2022-07-15T11:41:47.456963Z",
     "shell.execute_reply": "2022-07-15T11:41:47.455429Z"
    },
    "papermill": {
     "duration": 0.21217,
     "end_time": "2022-07-15T11:41:47.460394",
     "exception": false,
     "start_time": "2022-07-15T11:41:47.248224",
     "status": "completed"
    },
    "tags": []
   },
   "outputs": [
    {
     "data": {
      "image/png": "[encoded data removed]",
      "text/plain": [
       "<Figure size 432x288 with 1 Axes>"
      ]
     },
     "metadata": {
      "needs_background": "light"
     },
     "output_type": "display_data"
    }
   ],
   "source": [
    "sns.boxplot(data=df, y='Number_of_vehicles_involved')\n",
    "plt.show()"
   ]
  },
  {
   "cell_type": "code",
   "execution_count": 20,
   "id": "cdeba12e",
   "metadata": {
    "execution": {
     "iopub.execute_input": "2022-07-15T11:41:47.504217Z",
     "iopub.status.busy": "2022-07-15T11:41:47.503711Z",
     "iopub.status.idle": "2022-07-15T11:41:47.515396Z",
     "shell.execute_reply": "2022-07-15T11:41:47.513642Z"
    },
    "papermill": {
     "duration": 0.03704,
     "end_time": "2022-07-15T11:41:47.518630",
     "exception": false,
     "start_time": "2022-07-15T11:41:47.481590",
     "status": "completed"
    },
    "tags": []
   },
   "outputs": [
    {
     "data": {
      "text/plain": [
       "0        2\n",
       "1        2\n",
       "2        2\n",
       "3        2\n",
       "4        2\n",
       "        ..\n",
       "12311    2\n",
       "12312    2\n",
       "12313    1\n",
       "12314    2\n",
       "12315    2\n",
       "Name: Number_of_vehicles_involved, Length: 12316, dtype: int64"
      ]
     },
     "execution_count": 20,
     "metadata": {},
     "output_type": "execute_result"
    }
   ],
   "source": [
    "df['Number_of_vehicles_involved']"
   ]
  },
  {
   "cell_type": "code",
   "execution_count": 21,
   "id": "c2acfef4",
   "metadata": {
    "execution": {
     "iopub.execute_input": "2022-07-15T11:41:47.562786Z",
     "iopub.status.busy": "2022-07-15T11:41:47.562263Z",
     "iopub.status.idle": "2022-07-15T11:41:47.832888Z",
     "shell.execute_reply": "2022-07-15T11:41:47.830955Z"
    },
    "papermill": {
     "duration": 0.29629,
     "end_time": "2022-07-15T11:41:47.836170",
     "exception": false,
     "start_time": "2022-07-15T11:41:47.539880",
     "status": "completed"
    },
    "tags": []
   },
   "outputs": [
    {
     "data": {
      "image/png": "[encoded data removed]",
      "text/plain": [
       "<Figure size 432x288 with 1 Axes>"
      ]
     },
     "metadata": {
      "needs_background": "light"
     },
     "output_type": "display_data"
    }
   ],
   "source": [
    "sns.scatterplot(x=df['Number_of_vehicles_involved'], y=df['Number_of_casualties'])\n",
    "plt.show()"
   ]
  },
  {
   "cell_type": "code",
   "execution_count": 22,
   "id": "6779fee1",
   "metadata": {
    "execution": {
     "iopub.execute_input": "2022-07-15T11:41:47.879815Z",
     "iopub.status.busy": "2022-07-15T11:41:47.879326Z",
     "iopub.status.idle": "2022-07-15T11:41:49.381198Z",
     "shell.execute_reply": "2022-07-15T11:41:49.379867Z"
    },
    "papermill": {
     "duration": 1.526873,
     "end_time": "2022-07-15T11:41:49.384038",
     "exception": false,
     "start_time": "2022-07-15T11:41:47.857165",
     "status": "completed"
    },
    "tags": []
   },
   "outputs": [
    {
     "data": {
      "image/png": "[encoded data removed]",
      "text/plain": [
       "<Figure size 360x360 with 6 Axes>"
      ]
     },
     "metadata": {
      "needs_background": "light"
     },
     "output_type": "display_data"
    }
   ],
   "source": [
    "sns.pairplot(df[['Number_of_vehicles_involved','Number_of_casualties']])\n",
    "plt.show()"
   ]
  },
  {
   "cell_type": "code",
   "execution_count": 23,
   "id": "f26d719e",
   "metadata": {
    "execution": {
     "iopub.execute_input": "2022-07-15T11:41:49.432698Z",
     "iopub.status.busy": "2022-07-15T11:41:49.431651Z",
     "iopub.status.idle": "2022-07-15T11:41:49.740991Z",
     "shell.execute_reply": "2022-07-15T11:41:49.739522Z"
    },
    "papermill": {
     "duration": 0.337099,
     "end_time": "2022-07-15T11:41:49.744149",
     "exception": false,
     "start_time": "2022-07-15T11:41:49.407050",
     "status": "completed"
    },
    "scrolled": true,
    "tags": []
   },
   "outputs": [
    {
     "data": {
      "image/png": "[encoded data removed]",
      "text/plain": [
       "<Figure size 432x288 with 2 Axes>"
      ]
     },
     "metadata": {
      "needs_background": "light"
     },
     "output_type": "display_data"
    }
   ],
   "source": [
    "correlation_matrix = df[['Number_of_vehicles_involved','Number_of_casualties']].corr()\n",
    "sns.heatmap(correlation_matrix, annot=True)\n",
    "plt.show()"
   ]
  },
  {
   "cell_type": "code",
   "execution_count": 24,
   "id": "93cdb676",
   "metadata": {
    "execution": {
     "iopub.execute_input": "2022-07-15T11:41:49.881726Z",
     "iopub.status.busy": "2022-07-15T11:41:49.880708Z",
     "iopub.status.idle": "2022-07-15T11:41:50.029288Z",
     "shell.execute_reply": "2022-07-15T11:41:50.027458Z"
    },
    "papermill": {
     "duration": 0.178055,
     "end_time": "2022-07-15T11:41:50.033985",
     "exception": false,
     "start_time": "2022-07-15T11:41:49.855930",
     "status": "completed"
    },
    "tags": []
   },
   "outputs": [
    {
     "data": {
      "image/png": "[encoded data removed]",
      "text/plain": [
       "<Figure size 720x504 with 1 Axes>"
      ]
     },
     "metadata": {},
     "output_type": "display_data"
    }
   ],
   "source": [
    "plt.figure(figsize=(10,7))\n",
    "plt.pie(x=df['Accident_severity'].value_counts().values,\n",
    "        labels=df['Accident_severity'].value_counts().index,\n",
    "        autopct='%2.2f%%')\n",
    "plt.show()"
   ]
  },
  {
   "cell_type": "code",
   "execution_count": 25,
   "id": "3e25e177",
   "metadata": {
    "execution": {
     "iopub.execute_input": "2022-07-15T11:41:50.107073Z",
     "iopub.status.busy": "2022-07-15T11:41:50.106554Z",
     "iopub.status.idle": "2022-07-15T11:41:50.813898Z",
     "shell.execute_reply": "2022-07-15T11:41:50.812825Z"
    },
    "papermill": {
     "duration": 0.740769,
     "end_time": "2022-07-15T11:41:50.816816",
     "exception": false,
     "start_time": "2022-07-15T11:41:50.076047",
     "status": "completed"
    },
    "tags": []
   },
   "outputs": [
    {
     "data": {
      "image/png": "[encoded data removed]",
      "text/plain": [
       "<Figure size 864x288 with 3 Axes>"
      ]
     },
     "metadata": {
      "needs_background": "light"
     },
     "output_type": "display_data"
    }
   ],
   "source": [
    "\n",
    "grid = sns.FacetGrid(data=df, col='Accident_severity', height=4, aspect=1, sharey=False)\n",
    "\n",
    "grid.map(sns.countplot, 'Number_of_vehicles_involved', palette=['black', 'brown', 'orange'])\n",
    "plt.show()"
   ]
  },
  {
   "cell_type": "code",
   "execution_count": 26,
   "id": "bfeb8ec1",
   "metadata": {
    "execution": {
     "iopub.execute_input": "2022-07-15T11:41:50.866058Z",
     "iopub.status.busy": "2022-07-15T11:41:50.864589Z",
     "iopub.status.idle": "2022-07-15T11:41:50.874671Z",
     "shell.execute_reply": "2022-07-15T11:41:50.873287Z"
    },
    "papermill": {
     "duration": 0.037851,
     "end_time": "2022-07-15T11:41:50.877527",
     "exception": false,
     "start_time": "2022-07-15T11:41:50.839676",
     "status": "completed"
    },
    "tags": []
   },
   "outputs": [
    {
     "data": {
      "text/plain": [
       "Index(['Time', 'Day_of_week', 'Age_band_of_driver', 'Sex_of_driver',\n",
       "       'Educational_level', 'Vehicle_driver_relation', 'Driving_experience',\n",
       "       'Type_of_vehicle', 'Owner_of_vehicle', 'Service_year_of_vehicle',\n",
       "       'Defect_of_vehicle', 'Area_accident_occured', 'Lanes_or_Medians',\n",
       "       'Road_allignment', 'Types_of_Junction', 'Road_surface_type',\n",
       "       'Road_surface_conditions', 'Light_conditions', 'Weather_conditions',\n",
       "       'Type_of_collision', 'Number_of_vehicles_involved',\n",
       "       'Number_of_casualties', 'Vehicle_movement', 'Casualty_class',\n",
       "       'Sex_of_casualty', 'Age_band_of_casualty', 'Casualty_severity',\n",
       "       'Work_of_casuality', 'Fitness_of_casuality', 'Pedestrian_movement',\n",
       "       'Cause_of_accident', 'Accident_severity'],\n",
       "      dtype='object')"
      ]
     },
     "execution_count": 26,
     "metadata": {},
     "output_type": "execute_result"
    }
   ],
   "source": [
    "df.columns"
   ]
  },
  {
   "cell_type": "code",
   "execution_count": 27,
   "id": "d63bc4b6",
   "metadata": {
    "execution": {
     "iopub.execute_input": "2022-07-15T11:41:50.925193Z",
     "iopub.status.busy": "2022-07-15T11:41:50.924141Z",
     "iopub.status.idle": "2022-07-15T11:41:50.936106Z",
     "shell.execute_reply": "2022-07-15T11:41:50.934968Z"
    },
    "papermill": {
     "duration": 0.039754,
     "end_time": "2022-07-15T11:41:50.939183",
     "exception": false,
     "start_time": "2022-07-15T11:41:50.899429",
     "status": "completed"
    },
    "tags": []
   },
   "outputs": [],
   "source": [
    "\n",
    "lists=['Vehicle_driver_relation', 'Work_of_casuality', 'Fitness_of_casuality','Day_of_week','Casualty_severity','Time','Sex_of_driver','Educational_level','Defect_of_vehicle','Owner_of_vehicle','Service_year_of_vehicle', 'Road_surface_type','Sex_of_casualty']\n",
    "df.drop(columns = lists, inplace=True)"
   ]
  },
  {
   "cell_type": "code",
   "execution_count": 28,
   "id": "dff6589d",
   "metadata": {
    "execution": {
     "iopub.execute_input": "2022-07-15T11:41:50.987694Z",
     "iopub.status.busy": "2022-07-15T11:41:50.986752Z",
     "iopub.status.idle": "2022-07-15T11:41:50.994872Z",
     "shell.execute_reply": "2022-07-15T11:41:50.993644Z"
    },
    "papermill": {
     "duration": 0.036099,
     "end_time": "2022-07-15T11:41:50.997469",
     "exception": false,
     "start_time": "2022-07-15T11:41:50.961370",
     "status": "completed"
    },
    "tags": []
   },
   "outputs": [
    {
     "data": {
      "text/plain": [
       "(12316, 19)"
      ]
     },
     "execution_count": 28,
     "metadata": {},
     "output_type": "execute_result"
    }
   ],
   "source": [
    "df.shape"
   ]
  },
  {
   "cell_type": "code",
   "execution_count": 29,
   "id": "815574f1",
   "metadata": {
    "execution": {
     "iopub.execute_input": "2022-07-15T11:41:51.049357Z",
     "iopub.status.busy": "2022-07-15T11:41:51.048558Z",
     "iopub.status.idle": "2022-07-15T11:41:51.057887Z",
     "shell.execute_reply": "2022-07-15T11:41:51.056558Z"
    },
    "papermill": {
     "duration": 0.039692,
     "end_time": "2022-07-15T11:41:51.060649",
     "exception": false,
     "start_time": "2022-07-15T11:41:51.020957",
     "status": "completed"
    },
    "tags": []
   },
   "outputs": [
    {
     "data": {
      "text/plain": [
       "Index(['Age_band_of_driver', 'Driving_experience', 'Type_of_vehicle',\n",
       "       'Area_accident_occured', 'Lanes_or_Medians', 'Road_allignment',\n",
       "       'Types_of_Junction', 'Road_surface_conditions', 'Light_conditions',\n",
       "       'Weather_conditions', 'Type_of_collision',\n",
       "       'Number_of_vehicles_involved', 'Number_of_casualties',\n",
       "       'Vehicle_movement', 'Casualty_class', 'Age_band_of_casualty',\n",
       "       'Pedestrian_movement', 'Cause_of_accident', 'Accident_severity'],\n",
       "      dtype='object')"
      ]
     },
     "execution_count": 29,
     "metadata": {},
     "output_type": "execute_result"
    }
   ],
   "source": [
    "df.columns"
   ]
  },
  {
   "cell_type": "code",
   "execution_count": 30,
   "id": "ac9087b2",
   "metadata": {
    "execution": {
     "iopub.execute_input": "2022-07-15T11:41:51.157255Z",
     "iopub.status.busy": "2022-07-15T11:41:51.156416Z",
     "iopub.status.idle": "2022-07-15T11:41:51.206946Z",
     "shell.execute_reply": "2022-07-15T11:41:51.205526Z"
    },
    "papermill": {
     "duration": 0.078285,
     "end_time": "2022-07-15T11:41:51.210050",
     "exception": false,
     "start_time": "2022-07-15T11:41:51.131765",
     "status": "completed"
    },
    "tags": []
   },
   "outputs": [],
   "source": [
    "\n",
    "df['Driving_experience'].fillna(df['Driving_experience'].mode()[0], inplace=True)\n",
    "df['Age_band_of_driver'].fillna(df['Age_band_of_driver'].mode()[0], inplace=True)\n",
    "df['Type_of_vehicle'].fillna(df['Type_of_vehicle'].mode()[0], inplace=True)\n",
    "df['Area_accident_occured'].fillna(df['Area_accident_occured'].mode()[0], inplace=True)\n",
    "df['Road_allignment'].fillna(df['Road_allignment'].mode()[0], inplace=True)\n",
    "df['Type_of_collision'].fillna(df['Type_of_collision'].mode()[0], inplace=True)\n",
    "df['Vehicle_movement'].fillna(df['Vehicle_movement'].mode()[0], inplace=True)\n",
    "df['Lanes_or_Medians'].fillna(df['Lanes_or_Medians'].mode()[0], inplace=True)\n",
    "df['Types_of_Junction'].fillna(df['Types_of_Junction'].mode()[0], inplace=True)"
   ]
  },
  {
   "cell_type": "code",
   "execution_count": 31,
   "id": "e50e398c",
   "metadata": {
    "execution": {
     "iopub.execute_input": "2022-07-15T11:41:51.260375Z",
     "iopub.status.busy": "2022-07-15T11:41:51.259958Z",
     "iopub.status.idle": "2022-07-15T11:41:51.294267Z",
     "shell.execute_reply": "2022-07-15T11:41:51.293185Z"
    },
    "papermill": {
     "duration": 0.063585,
     "end_time": "2022-07-15T11:41:51.296759",
     "exception": false,
     "start_time": "2022-07-15T11:41:51.233174",
     "status": "completed"
    },
    "tags": []
   },
   "outputs": [
    {
     "data": {
      "text/plain": [
       "Age_band_of_driver             0\n",
       "Driving_experience             0\n",
       "Type_of_vehicle                0\n",
       "Area_accident_occured          0\n",
       "Lanes_or_Medians               0\n",
       "Road_allignment                0\n",
       "Types_of_Junction              0\n",
       "Road_surface_conditions        0\n",
       "Light_conditions               0\n",
       "Weather_conditions             0\n",
       "Type_of_collision              0\n",
       "Number_of_vehicles_involved    0\n",
       "Number_of_casualties           0\n",
       "Vehicle_movement               0\n",
       "Casualty_class                 0\n",
       "Age_band_of_casualty           0\n",
       "Pedestrian_movement            0\n",
       "Cause_of_accident              0\n",
       "Accident_severity              0\n",
       "dtype: int64"
      ]
     },
     "execution_count": 31,
     "metadata": {},
     "output_type": "execute_result"
    }
   ],
   "source": [
    "df.isnull().sum()"
   ]
  },
  {
   "cell_type": "code",
   "execution_count": 32,
   "id": "e485d71c",
   "metadata": {
    "execution": {
     "iopub.execute_input": "2022-07-15T11:41:51.348210Z",
     "iopub.status.busy": "2022-07-15T11:41:51.347020Z",
     "iopub.status.idle": "2022-07-15T11:41:51.554067Z",
     "shell.execute_reply": "2022-07-15T11:41:51.552270Z"
    },
    "papermill": {
     "duration": 0.237492,
     "end_time": "2022-07-15T11:41:51.557587",
     "exception": false,
     "start_time": "2022-07-15T11:41:51.320095",
     "status": "completed"
    },
    "tags": []
   },
   "outputs": [
    {
     "name": "stdout",
     "output_type": "stream",
     "text": [
      "Class 0: 10415\n",
      "Class 1: 1743\n",
      "Proportion: 5.98 : 1\n"
     ]
    },
    {
     "data": {
      "image/png": "[encoded data removed]",
      "text/plain": [
       "<Figure size 432x288 with 1 Axes>"
      ]
     },
     "metadata": {
      "needs_background": "light"
     },
     "output_type": "display_data"
    }
   ],
   "source": [
    "target_count = df['Accident_severity'].value_counts()\n",
    "print('Class 0:', target_count[0])\n",
    "print('Class 1:', target_count[1])\n",
    "print('Proportion:', round(target_count[0] / target_count[1], 2), ': 1')\n",
    "\n",
    "target_count.plot(kind='bar', title='Count (target)');"
   ]
  },
  {
   "cell_type": "code",
   "execution_count": 33,
   "id": "fc737f21",
   "metadata": {
    "execution": {
     "iopub.execute_input": "2022-07-15T11:41:51.658266Z",
     "iopub.status.busy": "2022-07-15T11:41:51.656886Z",
     "iopub.status.idle": "2022-07-15T11:41:51.731438Z",
     "shell.execute_reply": "2022-07-15T11:41:51.730383Z"
    },
    "papermill": {
     "duration": 0.104017,
     "end_time": "2022-07-15T11:41:51.734310",
     "exception": false,
     "start_time": "2022-07-15T11:41:51.630293",
     "status": "completed"
    },
    "tags": []
   },
   "outputs": [],
   "source": [
    "from sklearn.preprocessing import LabelEncoder           \n",
    "LE = LabelEncoder()\n",
    "df=df.apply(LE.fit_transform)                           "
   ]
  },
  {
   "cell_type": "code",
   "execution_count": 34,
   "id": "116c0546",
   "metadata": {
    "execution": {
     "iopub.execute_input": "2022-07-15T11:41:51.784888Z",
     "iopub.status.busy": "2022-07-15T11:41:51.784216Z",
     "iopub.status.idle": "2022-07-15T11:41:54.157264Z",
     "shell.execute_reply": "2022-07-15T11:41:54.155776Z"
    },
    "papermill": {
     "duration": 2.403698,
     "end_time": "2022-07-15T11:41:54.162121",
     "exception": false,
     "start_time": "2022-07-15T11:41:51.758423",
     "status": "completed"
    },
    "scrolled": true,
    "tags": []
   },
   "outputs": [
    {
     "data": {
      "text/plain": [
       "<AxesSubplot:>"
      ]
     },
     "execution_count": 34,
     "metadata": {},
     "output_type": "execute_result"
    },
    {
     "data": {
      "image/png": "[encoded data removed]",
      "text/plain": [
       "<Figure size 1800x1080 with 2 Axes>"
      ]
     },
     "metadata": {
      "needs_background": "light"
     },
     "output_type": "display_data"
    }
   ],
   "source": [
    "plt.figure(figsize=[25,15])\n",
    "sns.heatmap(df.corr(),annot=True)"
   ]
  },
  {
   "cell_type": "code",
   "execution_count": 35,
   "id": "e48316db",
   "metadata": {
    "execution": {
     "iopub.execute_input": "2022-07-15T11:41:54.225095Z",
     "iopub.status.busy": "2022-07-15T11:41:54.224533Z",
     "iopub.status.idle": "2022-07-15T11:41:54.234321Z",
     "shell.execute_reply": "2022-07-15T11:41:54.233059Z"
    },
    "papermill": {
     "duration": 0.044677,
     "end_time": "2022-07-15T11:41:54.237432",
     "exception": false,
     "start_time": "2022-07-15T11:41:54.192755",
     "status": "completed"
    },
    "tags": []
   },
   "outputs": [],
   "source": [
    "for col in df.select_dtypes(include='object'):\n",
    "    if df[col].nunique() <= 22:\n",
    "        sns.countplot(y=col, data=df)\n",
    "        plt.show()"
   ]
  },
  {
   "cell_type": "code",
   "execution_count": 36,
   "id": "ae675f4d",
   "metadata": {
    "execution": {
     "iopub.execute_input": "2022-07-15T11:41:54.352230Z",
     "iopub.status.busy": "2022-07-15T11:41:54.351047Z",
     "iopub.status.idle": "2022-07-15T11:41:54.365508Z",
     "shell.execute_reply": "2022-07-15T11:41:54.364339Z"
    },
    "papermill": {
     "duration": 0.046475,
     "end_time": "2022-07-15T11:41:54.368015",
     "exception": false,
     "start_time": "2022-07-15T11:41:54.321540",
     "status": "completed"
    },
    "tags": []
   },
   "outputs": [
    {
     "name": "stdout",
     "output_type": "stream",
     "text": [
      "(8621, 18) (3695, 18) (8621,) (3695,)\n"
     ]
    }
   ],
   "source": [
    "x = df.drop('Accident_severity', axis=1)\n",
    "y = df['Accident_severity']\n",
    "\n",
    "xtrain, xtest, ytrain, ytest = train_test_split(x, y, test_size=0.3, random_state=42)\n",
    "print(xtrain.shape, xtest.shape, ytrain.shape, ytest.shape)"
   ]
  },
  {
   "cell_type": "code",
   "execution_count": 37,
   "id": "48133cb7",
   "metadata": {
    "execution": {
     "iopub.execute_input": "2022-07-15T11:41:54.426008Z",
     "iopub.status.busy": "2022-07-15T11:41:54.425155Z",
     "iopub.status.idle": "2022-07-15T11:41:54.568216Z",
     "shell.execute_reply": "2022-07-15T11:41:54.566336Z"
    },
    "papermill": {
     "duration": 0.178026,
     "end_time": "2022-07-15T11:41:54.573300",
     "exception": false,
     "start_time": "2022-07-15T11:41:54.395274",
     "status": "completed"
    },
    "tags": []
   },
   "outputs": [
    {
     "name": "stdout",
     "output_type": "stream",
     "text": [
      "=============================\n",
      "Class= 2, n=7324 (84.96%)\n",
      "Class= 1, n=1191 (13.82%)\n",
      "Class= 0, n=106 (1.23%)\n",
      "=============================\n",
      "Class= 2, n=7324 (33.33%)\n",
      "Class= 1, n=7324 (33.33%)\n",
      "Class= 0, n=7324 (33.33%)\n",
      "=============================\n",
      "Upsampled data shape:  (21972, 18) (21972,)\n"
     ]
    }
   ],
   "source": [
    "\n",
    "\n",
    "counter = Counter(ytrain)\n",
    "\n",
    "print(\"=============================\")\n",
    "\n",
    "for k,v in counter.items():\n",
    "    per = 100*v/len(ytrain)\n",
    "    print(f\"Class= {k}, n={v} ({per:.2f}%)\")\n",
    "\n",
    "oversample = SMOTE()\n",
    "xtrain, ytrain = oversample.fit_resample(xtrain, ytrain)\n",
    "\n",
    "counter = Counter(ytrain)\n",
    "\n",
    "print(\"=============================\")\n",
    "\n",
    "for k,v in counter.items():\n",
    "    per = 100*v/len(ytrain)\n",
    "    print(f\"Class= {k}, n={v} ({per:.2f}%)\")\n",
    "\n",
    "print(\"=============================\")\n",
    "\n",
    "print(\"Upsampled data shape: \", xtrain.shape, ytrain.shape)"
   ]
  },
  {
   "cell_type": "code",
   "execution_count": 38,
   "id": "8293ff7c",
   "metadata": {
    "execution": {
     "iopub.execute_input": "2022-07-15T11:41:54.691550Z",
     "iopub.status.busy": "2022-07-15T11:41:54.691095Z",
     "iopub.status.idle": "2022-07-15T11:41:54.697912Z",
     "shell.execute_reply": "2022-07-15T11:41:54.696945Z"
    },
    "papermill": {
     "duration": 0.038842,
     "end_time": "2022-07-15T11:41:54.700312",
     "exception": false,
     "start_time": "2022-07-15T11:41:54.661470",
     "status": "completed"
    },
    "tags": []
   },
   "outputs": [],
   "source": [
    "x=df.drop(columns=[\"Accident_severity\"])\n",
    "y=df[\"Accident_severity\"]"
   ]
  },
  {
   "cell_type": "code",
   "execution_count": 39,
   "id": "cfecc1c1",
   "metadata": {
    "execution": {
     "iopub.execute_input": "2022-07-15T11:41:54.758609Z",
     "iopub.status.busy": "2022-07-15T11:41:54.757741Z",
     "iopub.status.idle": "2022-07-15T11:41:54.765281Z",
     "shell.execute_reply": "2022-07-15T11:41:54.763991Z"
    },
    "papermill": {
     "duration": 0.040202,
     "end_time": "2022-07-15T11:41:54.768025",
     "exception": false,
     "start_time": "2022-07-15T11:41:54.727823",
     "status": "completed"
    },
    "tags": []
   },
   "outputs": [],
   "source": [
    "from sklearn.model_selection import train_test_split\n",
    "X_train, X_test, y_train, y_test = train_test_split(x, y, test_size=0.33, random_state=42)"
   ]
  },
  {
   "cell_type": "code",
   "execution_count": 40,
   "id": "958d96f2",
   "metadata": {
    "papermill": {
     "duration": 0.030357,
     "end_time": "2022-07-15T11:45:32.995488",
     "exception": false,
     "start_time": "2022-07-15T11:45:32.965131",
     "status": "completed"
    },
    "tags": []
   },
   "outputs": [],
   "source": [
    "\n",
    "from keras.models import Model\n",
    "from keras.layers import Input, Conv2D, MaxPooling2D, AveragePooling2D, Flatten, GlobalAveragePooling2D, Dense, Dropout\n",
    "from keras.layers.merge import concatenate\n",
    "from talib.utils import *\n",
    "ac=[]\n",
    "def Inception_block(input_layer, f1, f2_conv1, f2_conv3, f3_conv1, f3_conv5, f4): \n",
    "  \n",
    "\n",
    "\n",
    "  path1 = Conv2D(filters=f1, kernel_size = (1,1), padding = 'same', activation = 'relu')(input_layer)\n",
    "\n",
    "\n",
    "  path2 = Conv2D(filters = f2_conv1, kernel_size = (1,1), padding = 'same', activation = 'relu')(input_layer)\n",
    "  path2 = Conv2D(filters = f2_conv3, kernel_size = (3,3), padding = 'same', activation = 'relu')(path2)\n",
    "\n",
    "  path3 = Conv2D(filters = f3_conv1, kernel_size = (1,1), padding = 'same', activation = 'relu')(input_layer)\n",
    "  path3 = Conv2D(filters = f3_conv5, kernel_size = (5,5), padding = 'same', activation = 'relu')(path3)\n",
    "\n",
    "  path4 = MaxPooling2D((3,3), strides= (1,1), padding = 'same')(input_layer)\n",
    "  path4 = Conv2D(filters = f4, kernel_size = (1,1), padding = 'same', activation = 'relu')(path4)\n",
    "\n",
    "  output_layer = concatenate([path1, path2, path3, path4], axis = -1)\n",
    "\n",
    "  return output_layer\n",
    "import tensorflow\n",
    "from tensorflow.keras.models import Sequential\n",
    "from tensorflow.keras.layers import Dense,BatchNormalization\n",
    "def GoogLeNet():\n",
    "\n",
    "  input_layer = Input(shape = (224, 224, 3))\n",
    "\n",
    "  X = Conv2D(filters = 64, kernel_size = (7,7), strides = 2, padding = 'valid', activation = 'relu')(input_layer)\n",
    "\n",
    "  \n",
    "  X = MaxPooling2D(pool_size = (3,3), strides = 2)(X)\n",
    "\n",
    "\n",
    "  X = Conv2D(filters = 64, kernel_size = (1,1), strides = 1, padding = 'same', activation = 'relu')(X)\n",
    "\n",
    "\n",
    "  X = Conv2D(filters = 192, kernel_size = (3,3), padding = 'same', activation = 'relu')(X)\n",
    "\n",
    "  X = MaxPooling2D(pool_size= (3,3), strides = 2)(X)\n",
    "\n",
    "  X = Inception_block(X, f1 = 64, f2_conv1 = 96, f2_conv3 = 128, f3_conv1 = 16, f3_conv5 = 32, f4 = 32)\n",
    "\n",
    "\n",
    "  X = Inception_block(X, f1 = 128, f2_conv1 = 128, f2_conv3 = 192, f3_conv1 = 32, f3_conv5 = 96, f4 = 64)\n",
    "\n",
    "\n",
    "  X = MaxPooling2D(pool_size= (3,3), strides = 2)(X)\n",
    "\n",
    "\n",
    "  X = Inception_block(X, f1 = 192, f2_conv1 = 96, f2_conv3 = 208, f3_conv1 = 16, f3_conv5 = 48, f4 = 64)\n",
    "\n",
    "\n",
    "  X1 = AveragePooling2D(pool_size = (5,5), strides = 3)(X)\n",
    "  X1 = Conv2D(filters = 128, kernel_size = (1,1), padding = 'same', activation = 'relu')(X1)\n",
    "  X1 = Flatten()(X1)\n",
    "  \n",
    "  X1 = Dropout(0.7)(X1)\n",
    "  \n",
    "\n",
    "  \n",
    "  \n",
    "  X = Inception_block(X, f1 = 160, f2_conv1 = 112, f2_conv3 = 224, f3_conv1 = 24, f3_conv5 = 64, f4 = 64)\n",
    "\n",
    "  \n",
    "  X = Inception_block(X, f1 = 128, f2_conv1 = 128, f2_conv3 = 256, f3_conv1 = 24, f3_conv5 = 64, f4 = 64)\n",
    "\n",
    " \n",
    "  X = Inception_block(X, f1 = 112, f2_conv1 = 144, f2_conv3 = 288, f3_conv1 = 32, f3_conv5 = 64, f4 = 64)\n",
    "\n",
    "  \n",
    "  X2 = AveragePooling2D(pool_size = (5,5), strides = 3)(X)\n",
    "  X2 = Conv2D(filters = 128, kernel_size = (1,1), padding = 'same', activation = 'relu')(X2)\n",
    "  X2 = Flatten()(X2)\n",
    " \n",
    "  X2 = Dropout(0.7)(X2)\n",
    " \n",
    "  \n",
    "  \n",
    " \n",
    "  X = Inception_block(X, f1 = 256, f2_conv1 = 160, f2_conv3 = 320, f3_conv1 = 32, \n",
    "                      f3_conv5 = 128, f4 = 128)\n",
    "\n",
    "  \n",
    "  X = MaxPooling2D(pool_size = (3,3), strides = 2)(X)\n",
    "\n",
    "  \n",
    "  X = Inception_block(X, f1 = 256, f2_conv1 = 160, f2_conv3 = 320, f3_conv1 = 32, f3_conv5 = 128, f4 = 128)\n",
    "\n",
    "  \n",
    "  X = Inception_block(X, f1 = 384, f2_conv1 = 192, f2_conv3 = 384, f3_conv1 = 48, f3_conv5 = 128, f4 = 128)\n",
    "\n",
    " \n",
    "  X = GlobalAveragePooling2D(name = 'GAPL')(X)\n",
    "\n",
    "  \n",
    "  X = Dropout(0.4)(X)\n",
    "\n",
    " \n",
    " \n",
    "  \n",
    "  model = Sequential()\n",
    "  model.add(Dense(20, input_dim=16, activation='relu'))\n",
    "  model.add(Dense(10,  activation='tanh'))\n",
    "  model.add(Dense(1024, activation='relu'))\n",
    "\n",
    "  model.add(BatchNormalization())\n",
    " \n",
    "  model.add(Dense(1, activation='sigmoid'))\n",
    "\n",
    "  return model\n",
    "mod=GoogLeNet()\n",
    "mod.compile(loss='binary_crossentropy', \n",
    "              optimizer='adam', \n",
    "              metrics=['accuracy'])\n",
    "ac.append(accuracy_score(y_test,mod,sample_weight=0.2)*100)"
   ]
  },
  {
   "cell_type": "code",
   "execution_count": 41,
   "id": "ca48d912",
   "metadata": {},
   "outputs": [
    {
     "name": "stdout",
     "output_type": "stream",
     "text": [
      "Epoch 1/10\n",
      "258/258 [==============================] - 1s 818us/step - loss: -42.1197\n",
      "Epoch 2/10\n",
      "258/258 [==============================] - 0s 675us/step - loss: -198.1861\n",
      "Epoch 3/10\n",
      "258/258 [==============================] - 0s 838us/step - loss: -483.9137\n",
      "Epoch 4/10\n",
      "258/258 [==============================] - 0s 825us/step - loss: -886.3016\n",
      "Epoch 5/10\n",
      "258/258 [==============================] - 0s 899us/step - loss: -1397.7104\n",
      "Epoch 6/10\n",
      "258/258 [==============================] - 0s 903us/step - loss: -2010.7189\n",
      "Epoch 7/10\n",
      "258/258 [==============================] - 0s 821us/step - loss: -2719.4719\n",
      "Epoch 8/10\n",
      "258/258 [==============================] - 0s 807us/step - loss: -3516.8440\n",
      "Epoch 9/10\n",
      "258/258 [==============================] - 0s 813us/step - loss: -4397.2627\n",
      "Epoch 10/10\n",
      "258/258 [==============================] - 0s 823us/step - loss: -5357.1685\n"
     ]
    }
   ],
   "source": [
    "import tensorflow as tf\n",
    "tf.keras.applications.resnet50.ResNet50(\n",
    "    include_top=True,\n",
    "    weights='imagenet',\n",
    "    input_tensor=None,\n",
    "    input_shape=None,\n",
    "    pooling=None,\n",
    "    classes=1000\n",
    ")\n",
    "\n",
    "from keras.models import Sequential\n",
    "from keras.layers import Dense\n",
    "model = Sequential()\n",
    "model.add(Dense(11,activation='relu',input_dim=18))\n",
    "model.add(Dense(1,activation='sigmoid'))\n",
    "\n",
    "model.compile(loss='binary_crossentropy',optimizer='adam')\n",
    "model.fit(X_train,y_train,epochs=10)\n",
    "ac.append(accuracy_score(y_test,model)*100)"
   ]
  },
  {
   "cell_type": "code",
   "execution_count": 42,
   "id": "fe8a4090",
   "metadata": {},
   "outputs": [
    {
     "name": "stdout",
     "output_type": "stream",
     "text": [
      "the accuracy of google net is 94.01 and restnet50 is 87.33\n"
     ]
    },
    {
     "data": {
      "text/plain": [
       "(50.0, 100.0)"
      ]
     },
     "execution_count": 42,
     "metadata": {},
     "output_type": "execute_result"
    },
    {
     "data": {
      "image/png": "[encoded data removed]",
      "text/plain": [
       "<Figure size 576x396 with 1 Axes>"
      ]
     },
     "metadata": {},
     "output_type": "display_data"
    }
   ],
   "source": [
    "import numpy as np\n",
    "import seaborn as sns\n",
    "import matplotlib as plt\n",
    "\n",
    "plt.style.use('seaborn')\n",
    "x=['google net','restnet50']\n",
    " \n",
    "ax=sns.barplot(x,ac[:2])\n",
    "ax.set_title('Accuracy comparison')\n",
    "ax.set_ylabel('Accuracy')\n",
    "#ax.yaxis.set_major_locator(ticker.LinearLocator())\n",
    "print(\"the accuracy of {} is {} and {} is {}\".format(x[0],ac[0],x[1],ac[1]))\n",
    "ax.set_ylim(50,100)"
   ]
  },
  {
   "cell_type": "code",
   "execution_count": 43,
   "id": "b5cd7a23",
   "metadata": {},
   "outputs": [],
   "source": [
    "import pickle\n",
    "file = open(\"model.pkl\",'rb')\n",
    "mode = pickle.load(file)"
   ]
  },
  {
   "cell_type": "code",
   "execution_count": 44,
   "id": "2e0b5b3f",
   "metadata": {},
   "outputs": [
    {
     "name": "stdout",
     "output_type": "stream",
     "text": [
      "moderate level\n",
      "moderate level\n",
      "moderate level\n",
      "possibilit for accidents\n",
      "moderate level\n",
      "moderate level\n",
      "moderate level\n",
      "moderate level\n",
      "moderate level\n",
      "moderate level\n",
      "moderate level\n",
      "moderate level\n",
      "moderate level\n",
      "moderate level\n",
      "moderate level\n",
      "moderate level\n",
      "moderate level\n",
      "moderate level\n",
      "moderate level\n",
      "moderate level\n",
      "moderate level\n",
      "possibilit for accidents\n",
      "moderate level\n",
      "moderate level\n",
      "moderate level\n",
      "moderate level\n",
      "moderate level\n",
      "moderate level\n",
      "moderate level\n",
      "moderate level\n",
      "possibilit for accidents\n",
      "moderate level\n",
      "moderate level\n",
      "moderate level\n",
      "moderate level\n",
      "moderate level\n",
      "moderate level\n",
      "moderate level\n",
      "moderate level\n",
      "moderate level\n",
      "moderate level\n",
      "moderate level\n",
      "moderate level\n",
      "moderate level\n",
      "moderate level\n",
      "moderate level\n",
      "moderate level\n",
      "moderate level\n",
      "moderate level\n",
      "moderate level\n",
      "moderate level\n",
      "moderate level\n",
      "moderate level\n",
      "moderate level\n",
      "moderate level\n",
      "moderate level\n",
      "moderate level\n",
      "moderate level\n",
      "moderate level\n",
      "moderate level\n",
      "moderate level\n",
      "moderate level\n",
      "moderate level\n",
      "moderate level\n",
      "moderate level\n",
      "moderate level\n",
      "moderate level\n",
      "moderate level\n",
      "moderate level\n",
      "moderate level\n",
      "moderate level\n",
      "moderate level\n",
      "moderate level\n",
      "possibilit for accidents\n",
      "moderate level\n",
      "moderate level\n",
      "moderate level\n",
      "moderate level\n",
      "moderate level\n",
      "possibilit for accidents\n",
      "moderate level\n",
      "moderate level\n",
      "moderate level\n",
      "moderate level\n",
      "moderate level\n",
      "moderate level\n",
      "moderate level\n",
      "moderate level\n",
      "moderate level\n",
      "moderate level\n",
      "moderate level\n",
      "moderate level\n",
      "moderate level\n",
      "moderate level\n",
      "moderate level\n",
      "moderate level\n",
      "moderate level\n",
      "moderate level\n",
      "moderate level\n"
     ]
    }
   ],
   "source": [
    "y=mode.predict(X_test)\n",
    "for i in range(1,100):\n",
    "    if(y[i]==0):\n",
    "        print(\"normal flow\")\n",
    "    elif(y[i]==1):\n",
    "        print(\"possibilit for accidents\")\n",
    "    else:\n",
    "        print(\"moderate level\")"
   ]
  },
  {
   "cell_type": "code",
   "execution_count": null,
   "id": "343e068a",
   "metadata": {},
   "outputs": [],
   "source": []
  }
 ],
 "metadata": {
  "kernelspec": {
   "display_name": "Python 3 (ipykernel)",
   "language": "python",
   "name": "python3"
  },
  "language_info": {
   "codemirror_mode": {
    "name": "ipython",
    "version": 3
   },
   "file_extension": ".py",
   "mimetype": "text/x-python",
   "name": "python",
   "nbconvert_exporter": "python",
   "pygments_lexer": "ipython3",
   "version": "3.6.4"
  },
  "papermill": {
   "default_parameters": {},
   "duration": 246.309232,
   "end_time": "2022-07-15T11:45:34.307569",
   "environment_variables": {},
   "exception": null,
   "input_path": "__notebook__.ipynb",
   "output_path": "__notebook__.ipynb",
   "parameters": {},
   "start_time": "2022-07-15T11:41:27.998337",
   "version": "2.3.4"
  }
 },
 "nbformat": 4,
 "nbformat_minor": 5
}
